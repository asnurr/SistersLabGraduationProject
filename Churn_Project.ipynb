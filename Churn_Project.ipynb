{
  "cells": [
    {
      "cell_type": "markdown",
      "metadata": {
        "id": "Q-lxPsygMbX9"
      },
      "source": [
        "# CHURN VERİ ANALİZİ"
      ]
    },
    {
      "cell_type": "markdown",
      "metadata": {
        "id": "xSpMTCJ2Mb-8"
      },
      "source": [
        "## Verinin Hikayesi"
      ]
    },
    {
      "cell_type": "markdown",
      "metadata": {
        "id": "vvTDLY9dM0ZW"
      },
      "source": [
        "## Müşteri kaybı (churn) tahminlemesi bankalar için büyük önem arz etmektedir.Bu çalışmadaki amaç ayrılma olasılığı bulunan müşterileri tahmin etmektir.Tahmin sonrası pazarlama veya kampanya planlamaları konusunda istediğiniz stratejileri geliştirebilirsiniz.\n",
        "\n",
        "- **Rownumber**:1'den 10000'e kadar numaralar.\n",
        "- **Customer ID**: Müşteri numarası.\n",
        "- **Surname**: Müşterinin soyadı.\n",
        "- **Credit Score**: Müşterinin kredi skorunu yansıtır.\n",
        "- **Geography**: Müşterinin ülkesi.\n",
        "- **Gender**: Müşterinin cinsiyeti.\n",
        "- **Age**: Müşterinin yaşı.\n",
        "- **Tenure**: Müşterinin bankadaki müşteri olma süresi.\n",
        "- **Balance**: Hesapta bulunan tutar.\n",
        "- **NumOfProducts**: Müşterinin sahip olduğu ürün sayısı\n",
        "- **HasCrCard**: Müşterinin kredi kartı olup olmadığı bilgisi.\n",
        "- **IsActiveMember**: Müşterinin aktiflik durumu.\n",
        "- **EstimatedSalary**: Müşterinin geliri.\n",
        "- **Exited (churn)**: Müşterinin ayrılıp ayrılmadığı\n"
      ]
    },
    {
      "cell_type": "markdown",
      "metadata": {
        "id": "XJ8ElcEBNCo6"
      },
      "source": [
        "# Kütüphaneler"
      ]
    },
    {
      "cell_type": "code",
      "execution_count": 41,
      "metadata": {
        "id": "sGlLi1RtlmdX"
      },
      "outputs": [],
      "source": [
        "import pandas as pd\n",
        "import numpy as np\n",
        "import seaborn as sns\n",
        "import matplotlib.pyplot as plt\n",
        "\n",
        "from sklearn.linear_model import LogisticRegression\n",
        "from sklearn.neighbors import KNeighborsClassifier\n",
        "from sklearn.naive_bayes import GaussianNB,BernoulliNB\n",
        "from sklearn.svm import SVC\n",
        "from sklearn.tree import DecisionTreeClassifier\n",
        "from sklearn.ensemble import RandomForestClassifier\n",
        "from xgboost import XGBClassifier\n",
        "from sklearn.ensemble import AdaBoostClassifier\n",
        "\n",
        "from sklearn.metrics import accuracy_score, confusion_matrix, roc_auc_score, precision_score, recall_score, f1_score, classification_report, roc_curve, auc, precision_recall_curve, average_precision_score\n",
        "\n",
        "from sklearn.model_selection import cross_val_score\n",
        "from sklearn.model_selection import GridSearchCV\n",
        "from sklearn.model_selection import train_test_split\n",
        "\n",
        "from sklearn.preprocessing import OneHotEncoder\n",
        "from sklearn.preprocessing import LabelEncoder\n",
        "\n",
        "import warnings\n",
        "warnings.filterwarnings('ignore')"
      ]
    },
    {
      "cell_type": "markdown",
      "metadata": {
        "id": "96kbnTdBNlSE"
      },
      "source": [
        "## Veri Setinin Yüklenmesi ve Kopyalanması"
      ]
    },
    {
      "cell_type": "code",
      "execution_count": 42,
      "metadata": {
        "id": "HU9Y5zShNqmd"
      },
      "outputs": [],
      "source": [
        "churn = pd.read_csv(\"Churn_Data.csv\") #veri seti yüklendi\n",
        "\n",
        "df = churn.copy()     #veri seti bir değişkene kopyalandı\n",
        "\n"
      ]
    },
    {
      "cell_type": "markdown",
      "metadata": {
        "id": "jOhXxwIgOqTH"
      },
      "source": [
        "## Verinin İncelenmesi"
      ]
    },
    {
      "cell_type": "markdown",
      "metadata": {
        "id": "iU6gZtmUPHcP"
      },
      "source": [
        "### Veriye İlk Bakış"
      ]
    },
    {
      "cell_type": "code",
      "execution_count": 43,
      "metadata": {
        "colab": {
          "base_uri": "https://localhost:8080/",
          "height": 270
        },
        "id": "dQPnjgsDPKEx",
        "outputId": "3f9a4a46-60a3-4734-b7a4-75d30cd3465c"
      },
      "outputs": [
        {
          "data": {
            "text/html": [
              "<div>\n",
              "<style scoped>\n",
              "    .dataframe tbody tr th:only-of-type {\n",
              "        vertical-align: middle;\n",
              "    }\n",
              "\n",
              "    .dataframe tbody tr th {\n",
              "        vertical-align: top;\n",
              "    }\n",
              "\n",
              "    .dataframe thead th {\n",
              "        text-align: right;\n",
              "    }\n",
              "</style>\n",
              "<table border=\"1\" class=\"dataframe\">\n",
              "  <thead>\n",
              "    <tr style=\"text-align: right;\">\n",
              "      <th></th>\n",
              "      <th>RowNumber</th>\n",
              "      <th>CustomerId</th>\n",
              "      <th>Surname</th>\n",
              "      <th>CreditScore</th>\n",
              "      <th>Geography</th>\n",
              "      <th>Gender</th>\n",
              "      <th>Age</th>\n",
              "      <th>Tenure</th>\n",
              "      <th>Balance</th>\n",
              "      <th>NumOfProducts</th>\n",
              "      <th>HasCrCard</th>\n",
              "      <th>IsActiveMember</th>\n",
              "      <th>EstimatedSalary</th>\n",
              "      <th>Exited</th>\n",
              "    </tr>\n",
              "  </thead>\n",
              "  <tbody>\n",
              "    <tr>\n",
              "      <th>0</th>\n",
              "      <td>1</td>\n",
              "      <td>15634602</td>\n",
              "      <td>Hargrave</td>\n",
              "      <td>619</td>\n",
              "      <td>France</td>\n",
              "      <td>Female</td>\n",
              "      <td>42</td>\n",
              "      <td>2</td>\n",
              "      <td>0.00</td>\n",
              "      <td>1</td>\n",
              "      <td>1</td>\n",
              "      <td>1</td>\n",
              "      <td>101348.88</td>\n",
              "      <td>1</td>\n",
              "    </tr>\n",
              "    <tr>\n",
              "      <th>1</th>\n",
              "      <td>2</td>\n",
              "      <td>15647311</td>\n",
              "      <td>Hill</td>\n",
              "      <td>608</td>\n",
              "      <td>Spain</td>\n",
              "      <td>Female</td>\n",
              "      <td>41</td>\n",
              "      <td>1</td>\n",
              "      <td>83807.86</td>\n",
              "      <td>1</td>\n",
              "      <td>0</td>\n",
              "      <td>1</td>\n",
              "      <td>112542.58</td>\n",
              "      <td>0</td>\n",
              "    </tr>\n",
              "    <tr>\n",
              "      <th>2</th>\n",
              "      <td>3</td>\n",
              "      <td>15619304</td>\n",
              "      <td>Onio</td>\n",
              "      <td>502</td>\n",
              "      <td>France</td>\n",
              "      <td>Female</td>\n",
              "      <td>42</td>\n",
              "      <td>8</td>\n",
              "      <td>159660.80</td>\n",
              "      <td>3</td>\n",
              "      <td>1</td>\n",
              "      <td>0</td>\n",
              "      <td>113931.57</td>\n",
              "      <td>1</td>\n",
              "    </tr>\n",
              "    <tr>\n",
              "      <th>3</th>\n",
              "      <td>4</td>\n",
              "      <td>15701354</td>\n",
              "      <td>Boni</td>\n",
              "      <td>699</td>\n",
              "      <td>France</td>\n",
              "      <td>Female</td>\n",
              "      <td>39</td>\n",
              "      <td>1</td>\n",
              "      <td>0.00</td>\n",
              "      <td>2</td>\n",
              "      <td>0</td>\n",
              "      <td>0</td>\n",
              "      <td>93826.63</td>\n",
              "      <td>0</td>\n",
              "    </tr>\n",
              "    <tr>\n",
              "      <th>4</th>\n",
              "      <td>5</td>\n",
              "      <td>15737888</td>\n",
              "      <td>Mitchell</td>\n",
              "      <td>850</td>\n",
              "      <td>Spain</td>\n",
              "      <td>Female</td>\n",
              "      <td>43</td>\n",
              "      <td>2</td>\n",
              "      <td>125510.82</td>\n",
              "      <td>1</td>\n",
              "      <td>1</td>\n",
              "      <td>1</td>\n",
              "      <td>79084.10</td>\n",
              "      <td>0</td>\n",
              "    </tr>\n",
              "  </tbody>\n",
              "</table>\n",
              "</div>"
            ],
            "text/plain": [
              "   RowNumber  CustomerId   Surname  CreditScore Geography  Gender  Age  \\\n",
              "0          1    15634602  Hargrave          619    France  Female   42   \n",
              "1          2    15647311      Hill          608     Spain  Female   41   \n",
              "2          3    15619304      Onio          502    France  Female   42   \n",
              "3          4    15701354      Boni          699    France  Female   39   \n",
              "4          5    15737888  Mitchell          850     Spain  Female   43   \n",
              "\n",
              "   Tenure    Balance  NumOfProducts  HasCrCard  IsActiveMember  \\\n",
              "0       2       0.00              1          1               1   \n",
              "1       1   83807.86              1          0               1   \n",
              "2       8  159660.80              3          1               0   \n",
              "3       1       0.00              2          0               0   \n",
              "4       2  125510.82              1          1               1   \n",
              "\n",
              "   EstimatedSalary  Exited  \n",
              "0        101348.88       1  \n",
              "1        112542.58       0  \n",
              "2        113931.57       1  \n",
              "3         93826.63       0  \n",
              "4         79084.10       0  "
            ]
          },
          "execution_count": 43,
          "metadata": {},
          "output_type": "execute_result"
        }
      ],
      "source": [
        "#veri setinin ilk 5 gözlemi incelendi\n",
        "df.head()       "
      ]
    },
    {
      "cell_type": "code",
      "execution_count": 44,
      "metadata": {
        "colab": {
          "base_uri": "https://localhost:8080/",
          "height": 270
        },
        "id": "kmJo48-4PQ1K",
        "outputId": "175f531c-a361-4abc-af16-9f6ac0eab728"
      },
      "outputs": [
        {
          "data": {
            "text/html": [
              "<div>\n",
              "<style scoped>\n",
              "    .dataframe tbody tr th:only-of-type {\n",
              "        vertical-align: middle;\n",
              "    }\n",
              "\n",
              "    .dataframe tbody tr th {\n",
              "        vertical-align: top;\n",
              "    }\n",
              "\n",
              "    .dataframe thead th {\n",
              "        text-align: right;\n",
              "    }\n",
              "</style>\n",
              "<table border=\"1\" class=\"dataframe\">\n",
              "  <thead>\n",
              "    <tr style=\"text-align: right;\">\n",
              "      <th></th>\n",
              "      <th>RowNumber</th>\n",
              "      <th>CustomerId</th>\n",
              "      <th>Surname</th>\n",
              "      <th>CreditScore</th>\n",
              "      <th>Geography</th>\n",
              "      <th>Gender</th>\n",
              "      <th>Age</th>\n",
              "      <th>Tenure</th>\n",
              "      <th>Balance</th>\n",
              "      <th>NumOfProducts</th>\n",
              "      <th>HasCrCard</th>\n",
              "      <th>IsActiveMember</th>\n",
              "      <th>EstimatedSalary</th>\n",
              "      <th>Exited</th>\n",
              "    </tr>\n",
              "  </thead>\n",
              "  <tbody>\n",
              "    <tr>\n",
              "      <th>9995</th>\n",
              "      <td>9996</td>\n",
              "      <td>15606229</td>\n",
              "      <td>Obijiaku</td>\n",
              "      <td>771</td>\n",
              "      <td>France</td>\n",
              "      <td>Male</td>\n",
              "      <td>39</td>\n",
              "      <td>5</td>\n",
              "      <td>0.00</td>\n",
              "      <td>2</td>\n",
              "      <td>1</td>\n",
              "      <td>0</td>\n",
              "      <td>96270.64</td>\n",
              "      <td>0</td>\n",
              "    </tr>\n",
              "    <tr>\n",
              "      <th>9996</th>\n",
              "      <td>9997</td>\n",
              "      <td>15569892</td>\n",
              "      <td>Johnstone</td>\n",
              "      <td>516</td>\n",
              "      <td>France</td>\n",
              "      <td>Male</td>\n",
              "      <td>35</td>\n",
              "      <td>10</td>\n",
              "      <td>57369.61</td>\n",
              "      <td>1</td>\n",
              "      <td>1</td>\n",
              "      <td>1</td>\n",
              "      <td>101699.77</td>\n",
              "      <td>0</td>\n",
              "    </tr>\n",
              "    <tr>\n",
              "      <th>9997</th>\n",
              "      <td>9998</td>\n",
              "      <td>15584532</td>\n",
              "      <td>Liu</td>\n",
              "      <td>709</td>\n",
              "      <td>France</td>\n",
              "      <td>Female</td>\n",
              "      <td>36</td>\n",
              "      <td>7</td>\n",
              "      <td>0.00</td>\n",
              "      <td>1</td>\n",
              "      <td>0</td>\n",
              "      <td>1</td>\n",
              "      <td>42085.58</td>\n",
              "      <td>1</td>\n",
              "    </tr>\n",
              "    <tr>\n",
              "      <th>9998</th>\n",
              "      <td>9999</td>\n",
              "      <td>15682355</td>\n",
              "      <td>Sabbatini</td>\n",
              "      <td>772</td>\n",
              "      <td>Germany</td>\n",
              "      <td>Male</td>\n",
              "      <td>42</td>\n",
              "      <td>3</td>\n",
              "      <td>75075.31</td>\n",
              "      <td>2</td>\n",
              "      <td>1</td>\n",
              "      <td>0</td>\n",
              "      <td>92888.52</td>\n",
              "      <td>1</td>\n",
              "    </tr>\n",
              "    <tr>\n",
              "      <th>9999</th>\n",
              "      <td>10000</td>\n",
              "      <td>15628319</td>\n",
              "      <td>Walker</td>\n",
              "      <td>792</td>\n",
              "      <td>France</td>\n",
              "      <td>Female</td>\n",
              "      <td>28</td>\n",
              "      <td>4</td>\n",
              "      <td>130142.79</td>\n",
              "      <td>1</td>\n",
              "      <td>1</td>\n",
              "      <td>0</td>\n",
              "      <td>38190.78</td>\n",
              "      <td>0</td>\n",
              "    </tr>\n",
              "  </tbody>\n",
              "</table>\n",
              "</div>"
            ],
            "text/plain": [
              "      RowNumber  CustomerId    Surname  CreditScore Geography  Gender  Age  \\\n",
              "9995       9996    15606229   Obijiaku          771    France    Male   39   \n",
              "9996       9997    15569892  Johnstone          516    France    Male   35   \n",
              "9997       9998    15584532        Liu          709    France  Female   36   \n",
              "9998       9999    15682355  Sabbatini          772   Germany    Male   42   \n",
              "9999      10000    15628319     Walker          792    France  Female   28   \n",
              "\n",
              "      Tenure    Balance  NumOfProducts  HasCrCard  IsActiveMember  \\\n",
              "9995       5       0.00              2          1               0   \n",
              "9996      10   57369.61              1          1               1   \n",
              "9997       7       0.00              1          0               1   \n",
              "9998       3   75075.31              2          1               0   \n",
              "9999       4  130142.79              1          1               0   \n",
              "\n",
              "      EstimatedSalary  Exited  \n",
              "9995         96270.64       0  \n",
              "9996        101699.77       0  \n",
              "9997         42085.58       1  \n",
              "9998         92888.52       1  \n",
              "9999         38190.78       0  "
            ]
          },
          "execution_count": 44,
          "metadata": {},
          "output_type": "execute_result"
        }
      ],
      "source": [
        "#veri setinin son 5 gözlemi incelendi\n",
        "df.tail()      "
      ]
    },
    {
      "cell_type": "code",
      "execution_count": 45,
      "metadata": {
        "colab": {
          "base_uri": "https://localhost:8080/"
        },
        "id": "S6BAkN2WPWcK",
        "outputId": "e1bac357-226b-41d9-c9b6-ffe7e814ae17"
      },
      "outputs": [
        {
          "name": "stdout",
          "output_type": "stream",
          "text": [
            "<class 'pandas.core.frame.DataFrame'>\n",
            "RangeIndex: 10000 entries, 0 to 9999\n",
            "Data columns (total 14 columns):\n",
            " #   Column           Non-Null Count  Dtype  \n",
            "---  ------           --------------  -----  \n",
            " 0   RowNumber        10000 non-null  int64  \n",
            " 1   CustomerId       10000 non-null  int64  \n",
            " 2   Surname          10000 non-null  object \n",
            " 3   CreditScore      10000 non-null  int64  \n",
            " 4   Geography        10000 non-null  object \n",
            " 5   Gender           10000 non-null  object \n",
            " 6   Age              10000 non-null  int64  \n",
            " 7   Tenure           10000 non-null  int64  \n",
            " 8   Balance          10000 non-null  float64\n",
            " 9   NumOfProducts    10000 non-null  int64  \n",
            " 10  HasCrCard        10000 non-null  int64  \n",
            " 11  IsActiveMember   10000 non-null  int64  \n",
            " 12  EstimatedSalary  10000 non-null  float64\n",
            " 13  Exited           10000 non-null  int64  \n",
            "dtypes: float64(2), int64(9), object(3)\n",
            "memory usage: 1.1+ MB\n"
          ]
        }
      ],
      "source": [
        "#veri setindeki veri tipleri ile ilgili bilgilere ulaşıldı(2 ondalıklı sayı,9 tam sayı,3 obje)\n",
        "df.info()  "
      ]
    },
    {
      "cell_type": "code",
      "execution_count": 46,
      "metadata": {
        "id": "Ap6XWzo1QLP8"
      },
      "outputs": [],
      "source": [
        "#tip dönüşümleri yapıldı\n",
        "df.Geography = pd.Categorical(df.Geography) \n",
        "df.Gender = pd.Categorical(df.Gender)\n",
        "df.Surname = pd.Categorical(df.Surname)\n"
      ]
    },
    {
      "cell_type": "code",
      "execution_count": 47,
      "metadata": {
        "colab": {
          "base_uri": "https://localhost:8080/"
        },
        "id": "pABGvrgiQT5w",
        "outputId": "5460d427-2038-4703-e12c-cf13aefada08"
      },
      "outputs": [
        {
          "data": {
            "text/plain": [
              "RowNumber             int64\n",
              "CustomerId            int64\n",
              "Surname            category\n",
              "CreditScore           int64\n",
              "Geography          category\n",
              "Gender             category\n",
              "Age                   int64\n",
              "Tenure                int64\n",
              "Balance             float64\n",
              "NumOfProducts         int64\n",
              "HasCrCard             int64\n",
              "IsActiveMember        int64\n",
              "EstimatedSalary     float64\n",
              "Exited                int64\n",
              "dtype: object"
            ]
          },
          "execution_count": 47,
          "metadata": {},
          "output_type": "execute_result"
        }
      ],
      "source": [
        "#yeni tipler incelendi\n",
        "df.dtypes"
      ]
    },
    {
      "cell_type": "markdown",
      "metadata": {
        "id": "Yil4DiAbQyru"
      },
      "source": [
        "### Veri Setinin Betimlenmesi"
      ]
    },
    {
      "cell_type": "code",
      "execution_count": 48,
      "metadata": {
        "colab": {
          "base_uri": "https://localhost:8080/"
        },
        "id": "ME-sKQddQ7Qf",
        "outputId": "96455e56-ebf3-4674-df49-9d1d646b8768"
      },
      "outputs": [
        {
          "data": {
            "text/plain": [
              "(10000, 14)"
            ]
          },
          "execution_count": 48,
          "metadata": {},
          "output_type": "execute_result"
        }
      ],
      "source": [
        "#veri setinin gözlem ve değişken sayısı görüldü\n",
        "df.shape      "
      ]
    },
    {
      "cell_type": "code",
      "execution_count": 49,
      "metadata": {
        "colab": {
          "base_uri": "https://localhost:8080/"
        },
        "id": "D6J5UI6PRIFr",
        "outputId": "a8d08341-31dd-4d7c-e971-eddf31083525"
      },
      "outputs": [
        {
          "data": {
            "text/plain": [
              "Index(['RowNumber', 'CustomerId', 'Surname', 'CreditScore', 'Geography',\n",
              "       'Gender', 'Age', 'Tenure', 'Balance', 'NumOfProducts', 'HasCrCard',\n",
              "       'IsActiveMember', 'EstimatedSalary', 'Exited'],\n",
              "      dtype='object')"
            ]
          },
          "execution_count": 49,
          "metadata": {},
          "output_type": "execute_result"
        }
      ],
      "source": [
        "#veri setinin değişkenleri incelendi\n",
        "df.columns    "
      ]
    },
    {
      "cell_type": "markdown",
      "metadata": {
        "id": "4yFUhdc7Se5d"
      },
      "source": [
        "### Eksik Verilerin İncelenmesi"
      ]
    },
    {
      "cell_type": "code",
      "execution_count": 50,
      "metadata": {
        "colab": {
          "base_uri": "https://localhost:8080/"
        },
        "id": "GdmSA7E4Sf4t",
        "outputId": "68bd9383-28af-4f13-ac49-8bc70a25f0fa"
      },
      "outputs": [
        {
          "data": {
            "text/plain": [
              "False"
            ]
          },
          "execution_count": 50,
          "metadata": {},
          "output_type": "execute_result"
        }
      ],
      "source": [
        "#veri setinde eksik/kayıp gözlem olmadığı saptandı\n",
        "df.isnull().values.any()  "
      ]
    },
    {
      "cell_type": "markdown",
      "metadata": {
        "id": "udJAOlJ0S3Si"
      },
      "source": [
        "### Kategorik Değişkenlerin İncelenmesi"
      ]
    },
    {
      "cell_type": "code",
      "execution_count": 51,
      "metadata": {
        "colab": {
          "base_uri": "https://localhost:8080/",
          "height": 206
        },
        "id": "blREn9CPS4Qo",
        "outputId": "90178bf0-c209-4f96-db09-97fffb21613b"
      },
      "outputs": [
        {
          "data": {
            "text/html": [
              "<div>\n",
              "<style scoped>\n",
              "    .dataframe tbody tr th:only-of-type {\n",
              "        vertical-align: middle;\n",
              "    }\n",
              "\n",
              "    .dataframe tbody tr th {\n",
              "        vertical-align: top;\n",
              "    }\n",
              "\n",
              "    .dataframe thead th {\n",
              "        text-align: right;\n",
              "    }\n",
              "</style>\n",
              "<table border=\"1\" class=\"dataframe\">\n",
              "  <thead>\n",
              "    <tr style=\"text-align: right;\">\n",
              "      <th></th>\n",
              "      <th>Surname</th>\n",
              "      <th>Geography</th>\n",
              "      <th>Gender</th>\n",
              "    </tr>\n",
              "  </thead>\n",
              "  <tbody>\n",
              "    <tr>\n",
              "      <th>0</th>\n",
              "      <td>Hargrave</td>\n",
              "      <td>France</td>\n",
              "      <td>Female</td>\n",
              "    </tr>\n",
              "    <tr>\n",
              "      <th>1</th>\n",
              "      <td>Hill</td>\n",
              "      <td>Spain</td>\n",
              "      <td>Female</td>\n",
              "    </tr>\n",
              "    <tr>\n",
              "      <th>2</th>\n",
              "      <td>Onio</td>\n",
              "      <td>France</td>\n",
              "      <td>Female</td>\n",
              "    </tr>\n",
              "    <tr>\n",
              "      <th>3</th>\n",
              "      <td>Boni</td>\n",
              "      <td>France</td>\n",
              "      <td>Female</td>\n",
              "    </tr>\n",
              "    <tr>\n",
              "      <th>4</th>\n",
              "      <td>Mitchell</td>\n",
              "      <td>Spain</td>\n",
              "      <td>Female</td>\n",
              "    </tr>\n",
              "  </tbody>\n",
              "</table>\n",
              "</div>"
            ],
            "text/plain": [
              "    Surname Geography  Gender\n",
              "0  Hargrave    France  Female\n",
              "1      Hill     Spain  Female\n",
              "2      Onio    France  Female\n",
              "3      Boni    France  Female\n",
              "4  Mitchell     Spain  Female"
            ]
          },
          "execution_count": 51,
          "metadata": {},
          "output_type": "execute_result"
        }
      ],
      "source": [
        "#verideki kategorik değişkenler df_kat değişkenine eşitlendi\n",
        "df_kat = df.select_dtypes(include = [\"category\"])\n",
        "df_kat.head()"
      ]
    },
    {
      "cell_type": "code",
      "execution_count": 52,
      "metadata": {
        "colab": {
          "base_uri": "https://localhost:8080/"
        },
        "id": "FSoiCrkFU6AR",
        "outputId": "565e7989-e81e-4f3f-c276-a4c0a43fad34"
      },
      "outputs": [
        {
          "data": {
            "text/plain": [
              "France     5014\n",
              "Germany    2509\n",
              "Spain      2477\n",
              "Name: Geography, dtype: int64"
            ]
          },
          "execution_count": 52,
          "metadata": {},
          "output_type": "execute_result"
        }
      ],
      "source": [
        "#Coğrafya değişkeninin sınıf frekansları incelendi\n",
        "df_kat[\"Geography\"].value_counts() "
      ]
    },
    {
      "cell_type": "code",
      "execution_count": 53,
      "metadata": {
        "colab": {
          "base_uri": "https://localhost:8080/"
        },
        "id": "SnXgfXqrW4RW",
        "outputId": "ee971698-3637-4e9f-97d5-ef813512f1db"
      },
      "outputs": [
        {
          "data": {
            "text/plain": [
              "Male      5457\n",
              "Female    4543\n",
              "Name: Gender, dtype: int64"
            ]
          },
          "execution_count": 53,
          "metadata": {},
          "output_type": "execute_result"
        }
      ],
      "source": [
        "#cinsiyet sınıf frekansları incelendi\n",
        "df_kat[\"Gender\"].value_counts() "
      ]
    },
    {
      "cell_type": "markdown",
      "metadata": {
        "id": "OBHu_avEfe6y"
      },
      "source": [
        "### Nümerik Değişkenlerin İncelenmesi\n",
        "\n",
        "\n",
        "\n"
      ]
    },
    {
      "cell_type": "code",
      "execution_count": 54,
      "metadata": {
        "colab": {
          "base_uri": "https://localhost:8080/",
          "height": 270
        },
        "id": "L2NbnG3bfqtx",
        "outputId": "9a7c0035-5ab7-4b7b-de21-c46753a424cb"
      },
      "outputs": [
        {
          "data": {
            "text/html": [
              "<div>\n",
              "<style scoped>\n",
              "    .dataframe tbody tr th:only-of-type {\n",
              "        vertical-align: middle;\n",
              "    }\n",
              "\n",
              "    .dataframe tbody tr th {\n",
              "        vertical-align: top;\n",
              "    }\n",
              "\n",
              "    .dataframe thead th {\n",
              "        text-align: right;\n",
              "    }\n",
              "</style>\n",
              "<table border=\"1\" class=\"dataframe\">\n",
              "  <thead>\n",
              "    <tr style=\"text-align: right;\">\n",
              "      <th></th>\n",
              "      <th>RowNumber</th>\n",
              "      <th>CustomerId</th>\n",
              "      <th>CreditScore</th>\n",
              "      <th>Age</th>\n",
              "      <th>Tenure</th>\n",
              "      <th>Balance</th>\n",
              "      <th>NumOfProducts</th>\n",
              "      <th>HasCrCard</th>\n",
              "      <th>IsActiveMember</th>\n",
              "      <th>EstimatedSalary</th>\n",
              "      <th>Exited</th>\n",
              "    </tr>\n",
              "  </thead>\n",
              "  <tbody>\n",
              "    <tr>\n",
              "      <th>0</th>\n",
              "      <td>1</td>\n",
              "      <td>15634602</td>\n",
              "      <td>619</td>\n",
              "      <td>42</td>\n",
              "      <td>2</td>\n",
              "      <td>0.00</td>\n",
              "      <td>1</td>\n",
              "      <td>1</td>\n",
              "      <td>1</td>\n",
              "      <td>101348.88</td>\n",
              "      <td>1</td>\n",
              "    </tr>\n",
              "    <tr>\n",
              "      <th>1</th>\n",
              "      <td>2</td>\n",
              "      <td>15647311</td>\n",
              "      <td>608</td>\n",
              "      <td>41</td>\n",
              "      <td>1</td>\n",
              "      <td>83807.86</td>\n",
              "      <td>1</td>\n",
              "      <td>0</td>\n",
              "      <td>1</td>\n",
              "      <td>112542.58</td>\n",
              "      <td>0</td>\n",
              "    </tr>\n",
              "    <tr>\n",
              "      <th>2</th>\n",
              "      <td>3</td>\n",
              "      <td>15619304</td>\n",
              "      <td>502</td>\n",
              "      <td>42</td>\n",
              "      <td>8</td>\n",
              "      <td>159660.80</td>\n",
              "      <td>3</td>\n",
              "      <td>1</td>\n",
              "      <td>0</td>\n",
              "      <td>113931.57</td>\n",
              "      <td>1</td>\n",
              "    </tr>\n",
              "    <tr>\n",
              "      <th>3</th>\n",
              "      <td>4</td>\n",
              "      <td>15701354</td>\n",
              "      <td>699</td>\n",
              "      <td>39</td>\n",
              "      <td>1</td>\n",
              "      <td>0.00</td>\n",
              "      <td>2</td>\n",
              "      <td>0</td>\n",
              "      <td>0</td>\n",
              "      <td>93826.63</td>\n",
              "      <td>0</td>\n",
              "    </tr>\n",
              "    <tr>\n",
              "      <th>4</th>\n",
              "      <td>5</td>\n",
              "      <td>15737888</td>\n",
              "      <td>850</td>\n",
              "      <td>43</td>\n",
              "      <td>2</td>\n",
              "      <td>125510.82</td>\n",
              "      <td>1</td>\n",
              "      <td>1</td>\n",
              "      <td>1</td>\n",
              "      <td>79084.10</td>\n",
              "      <td>0</td>\n",
              "    </tr>\n",
              "  </tbody>\n",
              "</table>\n",
              "</div>"
            ],
            "text/plain": [
              "   RowNumber  CustomerId  CreditScore  Age  Tenure    Balance  NumOfProducts  \\\n",
              "0          1    15634602          619   42       2       0.00              1   \n",
              "1          2    15647311          608   41       1   83807.86              1   \n",
              "2          3    15619304          502   42       8  159660.80              3   \n",
              "3          4    15701354          699   39       1       0.00              2   \n",
              "4          5    15737888          850   43       2  125510.82              1   \n",
              "\n",
              "   HasCrCard  IsActiveMember  EstimatedSalary  Exited  \n",
              "0          1               1        101348.88       1  \n",
              "1          0               1        112542.58       0  \n",
              "2          1               0        113931.57       1  \n",
              "3          0               0         93826.63       0  \n",
              "4          1               1         79084.10       0  "
            ]
          },
          "execution_count": 54,
          "metadata": {},
          "output_type": "execute_result"
        }
      ],
      "source": [
        "#sadece nümerik tipteki değişkenler seçildi\n",
        "df_num = df.select_dtypes(include =[\"int64\",\"float64\"])\n",
        "df_num.head()"
      ]
    },
    {
      "cell_type": "code",
      "execution_count": 55,
      "metadata": {
        "colab": {
          "base_uri": "https://localhost:8080/",
          "height": 394
        },
        "id": "-zwiUVvkf8pX",
        "outputId": "4015a49c-2a85-4b3a-f410-eced061fe24d"
      },
      "outputs": [
        {
          "data": {
            "text/html": [
              "<div>\n",
              "<style scoped>\n",
              "    .dataframe tbody tr th:only-of-type {\n",
              "        vertical-align: middle;\n",
              "    }\n",
              "\n",
              "    .dataframe tbody tr th {\n",
              "        vertical-align: top;\n",
              "    }\n",
              "\n",
              "    .dataframe thead th {\n",
              "        text-align: right;\n",
              "    }\n",
              "</style>\n",
              "<table border=\"1\" class=\"dataframe\">\n",
              "  <thead>\n",
              "    <tr style=\"text-align: right;\">\n",
              "      <th></th>\n",
              "      <th>count</th>\n",
              "      <th>mean</th>\n",
              "      <th>std</th>\n",
              "      <th>min</th>\n",
              "      <th>25%</th>\n",
              "      <th>50%</th>\n",
              "      <th>75%</th>\n",
              "      <th>max</th>\n",
              "    </tr>\n",
              "  </thead>\n",
              "  <tbody>\n",
              "    <tr>\n",
              "      <th>RowNumber</th>\n",
              "      <td>10000.0</td>\n",
              "      <td>5.000500e+03</td>\n",
              "      <td>2886.895680</td>\n",
              "      <td>1.00</td>\n",
              "      <td>2500.75</td>\n",
              "      <td>5.000500e+03</td>\n",
              "      <td>7.500250e+03</td>\n",
              "      <td>10000.00</td>\n",
              "    </tr>\n",
              "    <tr>\n",
              "      <th>CustomerId</th>\n",
              "      <td>10000.0</td>\n",
              "      <td>1.569094e+07</td>\n",
              "      <td>71936.186123</td>\n",
              "      <td>15565701.00</td>\n",
              "      <td>15628528.25</td>\n",
              "      <td>1.569074e+07</td>\n",
              "      <td>1.575323e+07</td>\n",
              "      <td>15815690.00</td>\n",
              "    </tr>\n",
              "    <tr>\n",
              "      <th>CreditScore</th>\n",
              "      <td>10000.0</td>\n",
              "      <td>6.505288e+02</td>\n",
              "      <td>96.653299</td>\n",
              "      <td>350.00</td>\n",
              "      <td>584.00</td>\n",
              "      <td>6.520000e+02</td>\n",
              "      <td>7.180000e+02</td>\n",
              "      <td>850.00</td>\n",
              "    </tr>\n",
              "    <tr>\n",
              "      <th>Age</th>\n",
              "      <td>10000.0</td>\n",
              "      <td>3.892180e+01</td>\n",
              "      <td>10.487806</td>\n",
              "      <td>18.00</td>\n",
              "      <td>32.00</td>\n",
              "      <td>3.700000e+01</td>\n",
              "      <td>4.400000e+01</td>\n",
              "      <td>92.00</td>\n",
              "    </tr>\n",
              "    <tr>\n",
              "      <th>Tenure</th>\n",
              "      <td>10000.0</td>\n",
              "      <td>5.012800e+00</td>\n",
              "      <td>2.892174</td>\n",
              "      <td>0.00</td>\n",
              "      <td>3.00</td>\n",
              "      <td>5.000000e+00</td>\n",
              "      <td>7.000000e+00</td>\n",
              "      <td>10.00</td>\n",
              "    </tr>\n",
              "    <tr>\n",
              "      <th>Balance</th>\n",
              "      <td>10000.0</td>\n",
              "      <td>7.648589e+04</td>\n",
              "      <td>62397.405202</td>\n",
              "      <td>0.00</td>\n",
              "      <td>0.00</td>\n",
              "      <td>9.719854e+04</td>\n",
              "      <td>1.276442e+05</td>\n",
              "      <td>250898.09</td>\n",
              "    </tr>\n",
              "    <tr>\n",
              "      <th>NumOfProducts</th>\n",
              "      <td>10000.0</td>\n",
              "      <td>1.530200e+00</td>\n",
              "      <td>0.581654</td>\n",
              "      <td>1.00</td>\n",
              "      <td>1.00</td>\n",
              "      <td>1.000000e+00</td>\n",
              "      <td>2.000000e+00</td>\n",
              "      <td>4.00</td>\n",
              "    </tr>\n",
              "    <tr>\n",
              "      <th>HasCrCard</th>\n",
              "      <td>10000.0</td>\n",
              "      <td>7.055000e-01</td>\n",
              "      <td>0.455840</td>\n",
              "      <td>0.00</td>\n",
              "      <td>0.00</td>\n",
              "      <td>1.000000e+00</td>\n",
              "      <td>1.000000e+00</td>\n",
              "      <td>1.00</td>\n",
              "    </tr>\n",
              "    <tr>\n",
              "      <th>IsActiveMember</th>\n",
              "      <td>10000.0</td>\n",
              "      <td>5.151000e-01</td>\n",
              "      <td>0.499797</td>\n",
              "      <td>0.00</td>\n",
              "      <td>0.00</td>\n",
              "      <td>1.000000e+00</td>\n",
              "      <td>1.000000e+00</td>\n",
              "      <td>1.00</td>\n",
              "    </tr>\n",
              "    <tr>\n",
              "      <th>EstimatedSalary</th>\n",
              "      <td>10000.0</td>\n",
              "      <td>1.000902e+05</td>\n",
              "      <td>57510.492818</td>\n",
              "      <td>11.58</td>\n",
              "      <td>51002.11</td>\n",
              "      <td>1.001939e+05</td>\n",
              "      <td>1.493882e+05</td>\n",
              "      <td>199992.48</td>\n",
              "    </tr>\n",
              "    <tr>\n",
              "      <th>Exited</th>\n",
              "      <td>10000.0</td>\n",
              "      <td>2.037000e-01</td>\n",
              "      <td>0.402769</td>\n",
              "      <td>0.00</td>\n",
              "      <td>0.00</td>\n",
              "      <td>0.000000e+00</td>\n",
              "      <td>0.000000e+00</td>\n",
              "      <td>1.00</td>\n",
              "    </tr>\n",
              "  </tbody>\n",
              "</table>\n",
              "</div>"
            ],
            "text/plain": [
              "                   count          mean           std          min  \\\n",
              "RowNumber        10000.0  5.000500e+03   2886.895680         1.00   \n",
              "CustomerId       10000.0  1.569094e+07  71936.186123  15565701.00   \n",
              "CreditScore      10000.0  6.505288e+02     96.653299       350.00   \n",
              "Age              10000.0  3.892180e+01     10.487806        18.00   \n",
              "Tenure           10000.0  5.012800e+00      2.892174         0.00   \n",
              "Balance          10000.0  7.648589e+04  62397.405202         0.00   \n",
              "NumOfProducts    10000.0  1.530200e+00      0.581654         1.00   \n",
              "HasCrCard        10000.0  7.055000e-01      0.455840         0.00   \n",
              "IsActiveMember   10000.0  5.151000e-01      0.499797         0.00   \n",
              "EstimatedSalary  10000.0  1.000902e+05  57510.492818        11.58   \n",
              "Exited           10000.0  2.037000e-01      0.402769         0.00   \n",
              "\n",
              "                         25%           50%           75%          max  \n",
              "RowNumber            2500.75  5.000500e+03  7.500250e+03     10000.00  \n",
              "CustomerId       15628528.25  1.569074e+07  1.575323e+07  15815690.00  \n",
              "CreditScore           584.00  6.520000e+02  7.180000e+02       850.00  \n",
              "Age                    32.00  3.700000e+01  4.400000e+01        92.00  \n",
              "Tenure                  3.00  5.000000e+00  7.000000e+00        10.00  \n",
              "Balance                 0.00  9.719854e+04  1.276442e+05    250898.09  \n",
              "NumOfProducts           1.00  1.000000e+00  2.000000e+00         4.00  \n",
              "HasCrCard               0.00  1.000000e+00  1.000000e+00         1.00  \n",
              "IsActiveMember          0.00  1.000000e+00  1.000000e+00         1.00  \n",
              "EstimatedSalary     51002.11  1.001939e+05  1.493882e+05    199992.48  \n",
              "Exited                  0.00  0.000000e+00  0.000000e+00         1.00  "
            ]
          },
          "execution_count": 55,
          "metadata": {},
          "output_type": "execute_result"
        }
      ],
      "source": [
        "#nümerik değişkenler betimleyici istatistiksel yöntemler ile incelendi\n",
        "df_num.describe().T "
      ]
    },
    {
      "cell_type": "markdown",
      "metadata": {
        "id": "tRxqHpfcgP3K"
      },
      "source": [
        "### Veri Görselleştirme"
      ]
    },
    {
      "cell_type": "code",
      "execution_count": 56,
      "metadata": {
        "colab": {
          "base_uri": "https://localhost:8080/",
          "height": 482
        },
        "id": "ma9kIKnDgRoq",
        "outputId": "69adf480-878c-41a2-c1ec-f1340fd1311c"
      },
      "outputs": [
        {
          "data": {
            "image/png": "[encoded data removed]",
            "text/plain": [
              "<Figure size 800x800 with 1 Axes>"
            ]
          },
          "metadata": {},
          "output_type": "display_data"
        }
      ],
      "source": [
        "# Müşteri Churn (Ayrılma) Dağılımını gösteren bir pasta grafiği oluşturuldu\n",
        "\n",
        "df[\"Exited\"].value_counts().plot(kind=\"pie\", \n",
        "                                 autopct='%1.1f%%', \n",
        "                                 figsize=(8, 8), \n",
        "                                 wedgeprops={'edgecolor': 'black'}, \n",
        "                                 shadow=True, \n",
        "                                 colors = ['darkorchid', 'turquoise'], \n",
        "                                 startangle=150)\n",
        "plt.title('Churn Dağılımı');"
      ]
    },
    {
      "cell_type": "code",
      "execution_count": 57,
      "metadata": {
        "colab": {
          "base_uri": "https://localhost:8080/",
          "height": 295
        },
        "id": "qfTQSezmn12O",
        "outputId": "aa41da9c-b8d2-4977-e09a-49d4d80e24aa"
      },
      "outputs": [
        {
          "data": {
            "image/png": "[encoded data removed]",
            "text/plain": [
              "<Figure size 640x480 with 1 Axes>"
            ]
          },
          "metadata": {},
          "output_type": "display_data"
        }
      ],
      "source": [
        "# Müşteri Churn (Ayrılma) Dağılımını Kredi Skoruna göre gösteren bir violin grafiği oluşturdu.\n",
        "\n",
        "sns.violinplot( x=df[\"Exited\"], y=df[\"CreditScore\"], linewidth=5)\n",
        "plt.title(\"Kredi Skoruna Göre Kayıp (Churn) Dağılımı\")\n",
        "plt.show()"
      ]
    },
    {
      "cell_type": "code",
      "execution_count": 58,
      "metadata": {
        "colab": {
          "base_uri": "https://localhost:8080/",
          "height": 295
        },
        "id": "ox6lZz2so4sK",
        "outputId": "d8d6caad-8004-4d8a-8fda-d39d6b7da6d5"
      },
      "outputs": [
        {
          "data": {
            "image/png": "[encoded data removed]",
            "text/plain": [
              "<Figure size 640x480 with 1 Axes>"
            ]
          },
          "metadata": {},
          "output_type": "display_data"
        }
      ],
      "source": [
        "# Müşteri Churn (Ayrılma) Dağılımını Hesapta Bulunan Tutara göre gösteren bir violin grafiği oluşturuldu.\n",
        "\n",
        "sns.violinplot( x=df[\"Exited\"], y=df[\"Balance\"], linewidth=5)\n",
        "plt.title(\"Hesapta Bulunan Tutara Göre Kayıp (Churn) Dağılımı\")\n",
        "plt.show()"
      ]
    },
    {
      "cell_type": "code",
      "execution_count": 59,
      "metadata": {
        "colab": {
          "base_uri": "https://localhost:8080/",
          "height": 403
        },
        "id": "xMbA4tH_p2mK",
        "outputId": "3108e7cc-8dbb-4953-f3ca-9813c00ff54f"
      },
      "outputs": [
        {
          "data": {
            "text/plain": [
              "Text(0.5, 1.0, 'Ülkelere Göre Kayıp (Churn) Dağılımı')"
            ]
          },
          "execution_count": 59,
          "metadata": {},
          "output_type": "execute_result"
        },
        {
          "data": {
            "image/png": "[encoded data removed]",
            "text/plain": [
              "<Figure size 613.875x500 with 1 Axes>"
            ]
          },
          "metadata": {},
          "output_type": "display_data"
        }
      ],
      "source": [
        "# Müşteri Churn (Ayrılma) Dağılımını Ülkelere göre gösteren bir kde grafiği oluşturuldu.\n",
        "\n",
        "sns.displot(data=df, x=\"Exited\",hue='Geography',kind ='kde')\n",
        "plt.title(\"Ülkelere Göre Kayıp (Churn) Dağılımı\") \n"
      ]
    },
    {
      "cell_type": "code",
      "execution_count": 60,
      "metadata": {
        "colab": {
          "base_uri": "https://localhost:8080/",
          "height": 313
        },
        "id": "ONBV9SA8qJSL",
        "outputId": "cf9efc88-087b-467f-959e-7ec43181c58b"
      },
      "outputs": [
        {
          "data": {
            "text/plain": [
              "Text(0.5, 1.0, 'Ürün Sayısına Göre Kayıp (Churn) Dağılımı')"
            ]
          },
          "execution_count": 60,
          "metadata": {},
          "output_type": "execute_result"
        },
        {
          "data": {
            "image/png": "[encoded data removed]",
            "text/plain": [
              "<Figure size 640x480 with 1 Axes>"
            ]
          },
          "metadata": {},
          "output_type": "display_data"
        }
      ],
      "source": [
        "sns.countplot(data=df, x=\"NumOfProducts\",hue='Exited')\n",
        "plt.title(\"Ürün Sayısına Göre Kayıp (Churn) Dağılımı\") \n"
      ]
    },
    {
      "cell_type": "code",
      "execution_count": 61,
      "metadata": {
        "colab": {
          "base_uri": "https://localhost:8080/",
          "height": 684
        },
        "id": "TE7BXkSqqnkp",
        "outputId": "c4e3cbae-ccbb-4de8-86f7-f1763dae42cb"
      },
      "outputs": [
        {
          "data": {
            "text/plain": [
              "<Axes: >"
            ]
          },
          "execution_count": 61,
          "metadata": {},
          "output_type": "execute_result"
        },
        {
          "data": {
            "image/png": "[encoded data removed]",
            "text/plain": [
              "<Figure size 1000x1000 with 2 Axes>"
            ]
          },
          "metadata": {},
          "output_type": "display_data"
        }
      ],
      "source": [
        "# Korelasyon matrisini görselleştir\n",
        "\n",
        "plt.figure(figsize = (10,10))\n",
        "sns.heatmap(df.corr(), annot = True)"
      ]
    },
    {
      "cell_type": "markdown",
      "metadata": {
        "id": "PbdpTLUJtqav"
      },
      "source": [
        "## Veri Ön İşleme"
      ]
    },
    {
      "cell_type": "markdown",
      "metadata": {
        "id": "6VtkXGDLtrc7"
      },
      "source": [
        "### Aykırı Gözlem Analizi"
      ]
    },
    {
      "cell_type": "code",
      "execution_count": 62,
      "metadata": {
        "id": "ukU369Qtt296"
      },
      "outputs": [],
      "source": [
        "#modellemeye girmeyecek değişkenler veri setinden çıkarıldı\n",
        "df.drop(columns=[\"RowNumber\",\"CustomerId\",\"Surname\"],inplace= True)"
      ]
    },
    {
      "cell_type": "code",
      "execution_count": 63,
      "metadata": {
        "colab": {
          "base_uri": "https://localhost:8080/",
          "height": 207
        },
        "id": "I1ZuUZ4huPSd",
        "outputId": "ba05f6fd-2c4f-4efd-c97f-48941ffa6694"
      },
      "outputs": [
        {
          "data": {
            "text/html": [
              "<div>\n",
              "<style scoped>\n",
              "    .dataframe tbody tr th:only-of-type {\n",
              "        vertical-align: middle;\n",
              "    }\n",
              "\n",
              "    .dataframe tbody tr th {\n",
              "        vertical-align: top;\n",
              "    }\n",
              "\n",
              "    .dataframe thead th {\n",
              "        text-align: right;\n",
              "    }\n",
              "</style>\n",
              "<table border=\"1\" class=\"dataframe\">\n",
              "  <thead>\n",
              "    <tr style=\"text-align: right;\">\n",
              "      <th></th>\n",
              "      <th>CreditScore</th>\n",
              "      <th>Geography</th>\n",
              "      <th>Gender</th>\n",
              "      <th>Age</th>\n",
              "      <th>Tenure</th>\n",
              "      <th>Balance</th>\n",
              "      <th>NumOfProducts</th>\n",
              "      <th>HasCrCard</th>\n",
              "      <th>IsActiveMember</th>\n",
              "      <th>EstimatedSalary</th>\n",
              "      <th>Exited</th>\n",
              "    </tr>\n",
              "  </thead>\n",
              "  <tbody>\n",
              "    <tr>\n",
              "      <th>0</th>\n",
              "      <td>619</td>\n",
              "      <td>France</td>\n",
              "      <td>Female</td>\n",
              "      <td>42</td>\n",
              "      <td>2</td>\n",
              "      <td>0.00</td>\n",
              "      <td>1</td>\n",
              "      <td>1</td>\n",
              "      <td>1</td>\n",
              "      <td>101348.88</td>\n",
              "      <td>1</td>\n",
              "    </tr>\n",
              "    <tr>\n",
              "      <th>1</th>\n",
              "      <td>608</td>\n",
              "      <td>Spain</td>\n",
              "      <td>Female</td>\n",
              "      <td>41</td>\n",
              "      <td>1</td>\n",
              "      <td>83807.86</td>\n",
              "      <td>1</td>\n",
              "      <td>0</td>\n",
              "      <td>1</td>\n",
              "      <td>112542.58</td>\n",
              "      <td>0</td>\n",
              "    </tr>\n",
              "    <tr>\n",
              "      <th>2</th>\n",
              "      <td>502</td>\n",
              "      <td>France</td>\n",
              "      <td>Female</td>\n",
              "      <td>42</td>\n",
              "      <td>8</td>\n",
              "      <td>159660.80</td>\n",
              "      <td>3</td>\n",
              "      <td>1</td>\n",
              "      <td>0</td>\n",
              "      <td>113931.57</td>\n",
              "      <td>1</td>\n",
              "    </tr>\n",
              "  </tbody>\n",
              "</table>\n",
              "</div>"
            ],
            "text/plain": [
              "   CreditScore Geography  Gender  Age  Tenure    Balance  NumOfProducts  \\\n",
              "0          619    France  Female   42       2       0.00              1   \n",
              "1          608     Spain  Female   41       1   83807.86              1   \n",
              "2          502    France  Female   42       8  159660.80              3   \n",
              "\n",
              "   HasCrCard  IsActiveMember  EstimatedSalary  Exited  \n",
              "0          1               1        101348.88       1  \n",
              "1          0               1        112542.58       0  \n",
              "2          1               0        113931.57       1  "
            ]
          },
          "execution_count": 63,
          "metadata": {},
          "output_type": "execute_result"
        }
      ],
      "source": [
        "df.head(3)"
      ]
    },
    {
      "cell_type": "code",
      "execution_count": 64,
      "metadata": {
        "colab": {
          "base_uri": "https://localhost:8080/"
        },
        "id": "aDbSbg7NP6Ad",
        "outputId": "b8951194-e432-4e14-d060-81192db4b996"
      },
      "outputs": [
        {
          "data": {
            "text/plain": [
              "0    619\n",
              "1    608\n",
              "2    502\n",
              "Name: CreditScore, dtype: int64"
            ]
          },
          "execution_count": 64,
          "metadata": {},
          "output_type": "execute_result"
        }
      ],
      "source": [
        "# \"CreditScore\" değişkenini df_CreditScore adlı bir değişkene atandı\n",
        "\n",
        "df_CreditScore =df[\"CreditScore\"]\n",
        "df_CreditScore.head(3)"
      ]
    },
    {
      "cell_type": "code",
      "execution_count": 65,
      "metadata": {
        "colab": {
          "base_uri": "https://localhost:8080/",
          "height": 296
        },
        "id": "--_s-gVfQam5",
        "outputId": "83cb841f-c1db-494d-9235-d3447548b188"
      },
      "outputs": [
        {
          "data": {
            "text/plain": [
              "<Axes: xlabel='CreditScore'>"
            ]
          },
          "execution_count": 65,
          "metadata": {},
          "output_type": "execute_result"
        },
        {
          "data": {
            "image/png": "[encoded data removed]",
            "text/plain": [
              "<Figure size 640x480 with 1 Axes>"
            ]
          },
          "metadata": {},
          "output_type": "display_data"
        }
      ],
      "source": [
        "# \"CreditScore\" değişkeninin kutu grafiği çizildi\n",
        "\n",
        "sns.boxplot(x = df_CreditScore)\n"
      ]
    },
    {
      "cell_type": "code",
      "execution_count": 66,
      "metadata": {
        "id": "WLj6zA17QkE7"
      },
      "outputs": [],
      "source": [
        "# \"CreditScore\" değişkeni için çeyreklikleri ve IQR'ı hesapla\n",
        "# IQR'ı ve çeyreklikleri kullanarak potansiyel aykırı değerleri belirle\n",
        "# Alt sınır: Q1 - 1.5 * IQR, Üst sınır: Q3 + 1.5 * IQR\n",
        "\n",
        "\n",
        "Q1 = df_CreditScore.quantile(0.25)\n",
        "Q3 = df_CreditScore.quantile(0.75)\n",
        "IQR = Q3-Q1"
      ]
    },
    {
      "cell_type": "code",
      "execution_count": 67,
      "metadata": {
        "id": "lmVGb1LqRX8l"
      },
      "outputs": [],
      "source": [
        "alt_sinir = Q1 - 1.5*IQR\n",
        "ust_sinir = Q3 + 1.5*IQR"
      ]
    },
    {
      "cell_type": "code",
      "execution_count": 68,
      "metadata": {
        "colab": {
          "base_uri": "https://localhost:8080/"
        },
        "id": "6kec3SEDRye8",
        "outputId": "bd77cdd6-d439-4ddf-fb33-e1b1d1e85ef5"
      },
      "outputs": [
        {
          "data": {
            "text/plain": [
              "0       False\n",
              "1       False\n",
              "2       False\n",
              "3       False\n",
              "4       False\n",
              "        ...  \n",
              "9995    False\n",
              "9996    False\n",
              "9997    False\n",
              "9998    False\n",
              "9999    False\n",
              "Name: CreditScore, Length: 10000, dtype: bool"
            ]
          },
          "execution_count": 68,
          "metadata": {},
          "output_type": "execute_result"
        }
      ],
      "source": [
        "aykrdf =(df_CreditScore < alt_sinir)|(df_CreditScore > ust_sinir)\n",
        "aykrdf"
      ]
    },
    {
      "cell_type": "code",
      "execution_count": 69,
      "metadata": {
        "colab": {
          "base_uri": "https://localhost:8080/"
        },
        "id": "Yxuro_9tR6Jp",
        "outputId": "f679c313-09b2-443c-91d1-b2323b32bc5a"
      },
      "outputs": [
        {
          "data": {
            "text/plain": [
              "7       376\n",
              "942     376\n",
              "1193    363\n",
              "1405    359\n",
              "1631    350\n",
              "1838    350\n",
              "1962    358\n",
              "2473    351\n",
              "2579    365\n",
              "8154    367\n",
              "8723    350\n",
              "8762    350\n",
              "9210    382\n",
              "9356    373\n",
              "9624    350\n",
              "Name: CreditScore, dtype: int64"
            ]
          },
          "execution_count": 69,
          "metadata": {},
          "output_type": "execute_result"
        }
      ],
      "source": [
        "df_CreditScore[aykrdf]\n"
      ]
    },
    {
      "cell_type": "code",
      "execution_count": 70,
      "metadata": {
        "colab": {
          "base_uri": "https://localhost:8080/"
        },
        "id": "OC5vJaxGSKC-",
        "outputId": "c5e42999-f6a9-4c1b-a012-8835cd2a2146"
      },
      "outputs": [
        {
          "data": {
            "text/plain": [
              "650.5288"
            ]
          },
          "execution_count": 70,
          "metadata": {},
          "output_type": "execute_result"
        }
      ],
      "source": [
        "df_CreditScore.mean()"
      ]
    },
    {
      "cell_type": "code",
      "execution_count": 71,
      "metadata": {
        "colab": {
          "base_uri": "https://localhost:8080/"
        },
        "id": "yYLQG0btSqgA",
        "outputId": "750450a5-1a20-4b35-a7ef-8d93c63a28a7"
      },
      "outputs": [
        {
          "data": {
            "text/plain": [
              "383.0"
            ]
          },
          "execution_count": 71,
          "metadata": {},
          "output_type": "execute_result"
        }
      ],
      "source": [
        "alt_sinir"
      ]
    },
    {
      "cell_type": "code",
      "execution_count": 72,
      "metadata": {
        "colab": {
          "base_uri": "https://localhost:8080/"
        },
        "id": "31JF2UZgSxP6",
        "outputId": "ab5c08d2-6c5c-49eb-e41d-1419e9270780"
      },
      "outputs": [
        {
          "data": {
            "text/plain": [
              "361.3333333333333"
            ]
          },
          "execution_count": 72,
          "metadata": {},
          "output_type": "execute_result"
        }
      ],
      "source": [
        "df_CreditScore[aykrdf].mean()"
      ]
    },
    {
      "cell_type": "code",
      "execution_count": 73,
      "metadata": {
        "id": "YFzPww1JS1xH"
      },
      "outputs": [],
      "source": [
        "df_CreditScore[aykrdf] = alt_sinir"
      ]
    },
    {
      "cell_type": "code",
      "execution_count": 74,
      "metadata": {
        "colab": {
          "base_uri": "https://localhost:8080/",
          "height": 296
        },
        "id": "gJjNPBnva9Fw",
        "outputId": "ea16b286-8c4e-4926-94cf-3df47f201fc4"
      },
      "outputs": [
        {
          "data": {
            "text/plain": [
              "<Axes: xlabel='CreditScore'>"
            ]
          },
          "execution_count": 74,
          "metadata": {},
          "output_type": "execute_result"
        },
        {
          "data": {
            "image/png": "[encoded data removed]",
            "text/plain": [
              "<Figure size 640x480 with 1 Axes>"
            ]
          },
          "metadata": {},
          "output_type": "display_data"
        }
      ],
      "source": [
        "sns.boxplot(x =df_CreditScore)\n"
      ]
    },
    {
      "cell_type": "code",
      "execution_count": 75,
      "metadata": {
        "colab": {
          "base_uri": "https://localhost:8080/",
          "height": 296
        },
        "id": "4PDLzvE3ayUE",
        "outputId": "7f2e96d5-9e4b-48bf-c186-c00fee11077f"
      },
      "outputs": [
        {
          "data": {
            "text/plain": [
              "<Axes: xlabel='CreditScore'>"
            ]
          },
          "execution_count": 75,
          "metadata": {},
          "output_type": "execute_result"
        },
        {
          "data": {
            "image/png": "[encoded data removed]",
            "text/plain": [
              "<Figure size 640x480 with 1 Axes>"
            ]
          },
          "metadata": {},
          "output_type": "display_data"
        }
      ],
      "source": [
        "sns.boxplot(x =df[\"CreditScore\"])\n"
      ]
    },
    {
      "cell_type": "code",
      "execution_count": 76,
      "metadata": {
        "colab": {
          "base_uri": "https://localhost:8080/"
        },
        "id": "VOFFkmEMbH3w",
        "outputId": "168638da-8422-427f-fdf0-fc4cfd0122c8"
      },
      "outputs": [
        {
          "data": {
            "text/plain": [
              "0    42\n",
              "1    41\n",
              "2    42\n",
              "Name: Age, dtype: int64"
            ]
          },
          "execution_count": 76,
          "metadata": {},
          "output_type": "execute_result"
        }
      ],
      "source": [
        "df_Age = df[\"Age\"]\n",
        "df_Age.head(3)"
      ]
    },
    {
      "cell_type": "code",
      "execution_count": 77,
      "metadata": {
        "colab": {
          "base_uri": "https://localhost:8080/",
          "height": 279
        },
        "id": "EX2yQMf9cy7M",
        "outputId": "753f8544-0431-4f77-c8c4-803b4afbef39"
      },
      "outputs": [
        {
          "data": {
            "image/png": "[encoded data removed]",
            "text/plain": [
              "<Figure size 640x480 with 1 Axes>"
            ]
          },
          "metadata": {},
          "output_type": "display_data"
        }
      ],
      "source": [
        "sns.boxplot( x =df_Age);"
      ]
    },
    {
      "cell_type": "code",
      "execution_count": 78,
      "metadata": {
        "id": "IKqWe8fZc3Xv"
      },
      "outputs": [],
      "source": [
        "Q1 = df_Age.quantile(0.25)\n",
        "Q3 = df_Age.quantile(0.75)\n",
        "IQR = Q3-Q1"
      ]
    },
    {
      "cell_type": "code",
      "execution_count": 79,
      "metadata": {
        "id": "DX5C1tkqc-Ek"
      },
      "outputs": [],
      "source": [
        "alt_sinir2 = Q1 - 1.5*IQR\n",
        "ust_sinir2= Q3 + 1.5*IQR"
      ]
    },
    {
      "cell_type": "code",
      "execution_count": 80,
      "metadata": {
        "colab": {
          "base_uri": "https://localhost:8080/"
        },
        "id": "1SbHpc0rdDZE",
        "outputId": "d1889ed1-b2c8-4dbd-cd23-63ee9a35c4de"
      },
      "outputs": [
        {
          "data": {
            "text/plain": [
              "0       False\n",
              "1       False\n",
              "2       False\n",
              "3       False\n",
              "4       False\n",
              "        ...  \n",
              "9995    False\n",
              "9996    False\n",
              "9997    False\n",
              "9998    False\n",
              "9999    False\n",
              "Name: Age, Length: 10000, dtype: bool"
            ]
          },
          "execution_count": 80,
          "metadata": {},
          "output_type": "execute_result"
        }
      ],
      "source": [
        "aykrdf2 =(df_Age < alt_sinir2)|(df_Age > ust_sinir2)\n",
        "aykrdf2"
      ]
    },
    {
      "cell_type": "code",
      "execution_count": 81,
      "metadata": {
        "colab": {
          "base_uri": "https://localhost:8080/"
        },
        "id": "qfLql776dICh",
        "outputId": "b81a43ec-b3be-4777-8dfb-1ff1634e3195"
      },
      "outputs": [
        {
          "data": {
            "text/plain": [
              "58      66\n",
              "85      75\n",
              "104     65\n",
              "158     73\n",
              "181     65\n",
              "        ..\n",
              "9753    68\n",
              "9765    64\n",
              "9832    64\n",
              "9894    77\n",
              "9936    77\n",
              "Name: Age, Length: 359, dtype: int64"
            ]
          },
          "execution_count": 81,
          "metadata": {},
          "output_type": "execute_result"
        }
      ],
      "source": [
        "df_Age[aykrdf2]"
      ]
    },
    {
      "cell_type": "code",
      "execution_count": 82,
      "metadata": {
        "colab": {
          "base_uri": "https://localhost:8080/"
        },
        "id": "tFEuFLKRdNRJ",
        "outputId": "1622ecea-a0a4-41c8-dab7-30561a3f900d"
      },
      "outputs": [
        {
          "data": {
            "text/plain": [
              "38.9218"
            ]
          },
          "execution_count": 82,
          "metadata": {},
          "output_type": "execute_result"
        }
      ],
      "source": [
        "df_Age.mean()"
      ]
    },
    {
      "cell_type": "code",
      "execution_count": 83,
      "metadata": {
        "colab": {
          "base_uri": "https://localhost:8080/"
        },
        "id": "n9tbDNSBdVER",
        "outputId": "830b80f3-9c09-4fbf-f569-7c6716e62cbf"
      },
      "outputs": [
        {
          "data": {
            "text/plain": [
              "62.0"
            ]
          },
          "execution_count": 83,
          "metadata": {},
          "output_type": "execute_result"
        }
      ],
      "source": [
        "ust_sinir2\n"
      ]
    },
    {
      "cell_type": "code",
      "execution_count": 84,
      "metadata": {
        "colab": {
          "base_uri": "https://localhost:8080/"
        },
        "id": "gFN-JSLZdbb_",
        "outputId": "865ba5e2-169d-47b6-e8a4-3f183b044a11"
      },
      "outputs": [
        {
          "data": {
            "text/plain": [
              "69.27019498607243"
            ]
          },
          "execution_count": 84,
          "metadata": {},
          "output_type": "execute_result"
        }
      ],
      "source": [
        "df_Age[aykrdf2].mean()"
      ]
    },
    {
      "cell_type": "code",
      "execution_count": 85,
      "metadata": {
        "id": "MWPVqUE8dfuA"
      },
      "outputs": [],
      "source": [
        "df_Age = df[\"Age\"]\n"
      ]
    },
    {
      "cell_type": "code",
      "execution_count": 86,
      "metadata": {
        "id": "HkrFCfyVdjiH"
      },
      "outputs": [],
      "source": [
        "df_Age[aykrdf2] = ust_sinir2"
      ]
    },
    {
      "cell_type": "code",
      "execution_count": 87,
      "metadata": {
        "colab": {
          "base_uri": "https://localhost:8080/",
          "height": 279
        },
        "id": "7GXC2Prqdnkf",
        "outputId": "1a5cd6ba-a149-46db-d32b-6b2cfb868c42"
      },
      "outputs": [
        {
          "data": {
            "image/png": "[encoded data removed]",
            "text/plain": [
              "<Figure size 640x480 with 1 Axes>"
            ]
          },
          "metadata": {},
          "output_type": "display_data"
        }
      ],
      "source": [
        "sns.boxplot(x = df_Age);\n"
      ]
    },
    {
      "cell_type": "code",
      "execution_count": 88,
      "metadata": {
        "colab": {
          "base_uri": "https://localhost:8080/",
          "height": 279
        },
        "id": "4A1SELu7dsUM",
        "outputId": "447707d1-b794-42f5-f368-e787ad410a99"
      },
      "outputs": [
        {
          "data": {
            "image/png": "[encoded data removed]",
            "text/plain": [
              "<Figure size 640x480 with 1 Axes>"
            ]
          },
          "metadata": {},
          "output_type": "display_data"
        }
      ],
      "source": [
        "sns.boxplot(x = df[\"Age\"]);\n"
      ]
    },
    {
      "cell_type": "code",
      "execution_count": 89,
      "metadata": {
        "colab": {
          "base_uri": "https://localhost:8080/",
          "height": 279
        },
        "id": "j7nDb_0FeysK",
        "outputId": "f7cf4e62-f922-4798-de60-e917faa8d8aa"
      },
      "outputs": [
        {
          "data": {
            "image/png": "[encoded data removed]",
            "text/plain": [
              "<Figure size 640x480 with 1 Axes>"
            ]
          },
          "metadata": {},
          "output_type": "display_data"
        }
      ],
      "source": [
        "df_Tenure = df[\"Tenure\"]\n",
        "sns.boxplot( x=df_Tenure);"
      ]
    },
    {
      "cell_type": "code",
      "execution_count": 90,
      "metadata": {
        "colab": {
          "base_uri": "https://localhost:8080/",
          "height": 279
        },
        "id": "4T88aY-xe36_",
        "outputId": "3335b531-ea51-471a-925e-bd5d34b3e6d8"
      },
      "outputs": [
        {
          "data": {
            "image/png": "[encoded data removed]",
            "text/plain": [
              "<Figure size 640x480 with 1 Axes>"
            ]
          },
          "metadata": {},
          "output_type": "display_data"
        }
      ],
      "source": [
        "df_Balance = df[\"Balance\"]\n",
        "sns.boxplot(x = df_Balance);"
      ]
    },
    {
      "cell_type": "code",
      "execution_count": 91,
      "metadata": {
        "colab": {
          "base_uri": "https://localhost:8080/",
          "height": 279
        },
        "id": "AyM2TIh1fMLV",
        "outputId": "ccade782-399b-4eb2-9f6c-ae938d6c8a99"
      },
      "outputs": [
        {
          "data": {
            "image/png": "[encoded data removed]",
            "text/plain": [
              "<Figure size 640x480 with 1 Axes>"
            ]
          },
          "metadata": {},
          "output_type": "display_data"
        }
      ],
      "source": [
        "df_EstimatedSalary = df[\"EstimatedSalary\"]\n",
        "sns.boxplot(x =df_EstimatedSalary);"
      ]
    },
    {
      "cell_type": "markdown",
      "metadata": {
        "id": "BkR8TjX9fX-S"
      },
      "source": [
        "Yukarıda görüldüğü üzere detaylı bir aykırı gözlem analizi yapılmıştır.\n",
        "\n",
        "\"CreditScore\" ve \"Age\" değişkenlerinde aykırı gözleme rastlanılmıştır.\n",
        "Creditscore değişkeninde bulunan aykırı gözlemlerin ortalaması,alt sınır değerine daha yakın olduğu için aykırı değerlerin yerine ortalama atamak yerine alt sınıra baskılama işlemi yapılmıştır.\n",
        "\n",
        "Aynı şekilde Age değişkeninde bulunan aykırı gözlemlerin ortalaması üst sınır değerine daha yakın olduğu için aykırı değerlerin yerine ortalama atamak yerine üst sınıra baskılama işlemi yapılmıştır. "
      ]
    },
    {
      "cell_type": "markdown",
      "metadata": {
        "id": "CHhh3XqLhadr"
      },
      "source": [
        "### Değişken Dönüşümleri"
      ]
    },
    {
      "cell_type": "code",
      "execution_count": 92,
      "metadata": {
        "colab": {
          "base_uri": "https://localhost:8080/",
          "height": 207
        },
        "id": "yAzMLMplhha9",
        "outputId": "9aff9b31-acd0-4281-8a04-c6159b45deec"
      },
      "outputs": [
        {
          "data": {
            "text/html": [
              "<div>\n",
              "<style scoped>\n",
              "    .dataframe tbody tr th:only-of-type {\n",
              "        vertical-align: middle;\n",
              "    }\n",
              "\n",
              "    .dataframe tbody tr th {\n",
              "        vertical-align: top;\n",
              "    }\n",
              "\n",
              "    .dataframe thead th {\n",
              "        text-align: right;\n",
              "    }\n",
              "</style>\n",
              "<table border=\"1\" class=\"dataframe\">\n",
              "  <thead>\n",
              "    <tr style=\"text-align: right;\">\n",
              "      <th></th>\n",
              "      <th>CreditScore</th>\n",
              "      <th>Geography</th>\n",
              "      <th>Gender</th>\n",
              "      <th>Age</th>\n",
              "      <th>Tenure</th>\n",
              "      <th>Balance</th>\n",
              "      <th>NumOfProducts</th>\n",
              "      <th>HasCrCard</th>\n",
              "      <th>IsActiveMember</th>\n",
              "      <th>EstimatedSalary</th>\n",
              "      <th>Exited</th>\n",
              "    </tr>\n",
              "  </thead>\n",
              "  <tbody>\n",
              "    <tr>\n",
              "      <th>0</th>\n",
              "      <td>619</td>\n",
              "      <td>France</td>\n",
              "      <td>Female</td>\n",
              "      <td>42</td>\n",
              "      <td>2</td>\n",
              "      <td>0.00</td>\n",
              "      <td>1</td>\n",
              "      <td>1</td>\n",
              "      <td>1</td>\n",
              "      <td>101348.88</td>\n",
              "      <td>1</td>\n",
              "    </tr>\n",
              "    <tr>\n",
              "      <th>1</th>\n",
              "      <td>608</td>\n",
              "      <td>Spain</td>\n",
              "      <td>Female</td>\n",
              "      <td>41</td>\n",
              "      <td>1</td>\n",
              "      <td>83807.86</td>\n",
              "      <td>1</td>\n",
              "      <td>0</td>\n",
              "      <td>1</td>\n",
              "      <td>112542.58</td>\n",
              "      <td>0</td>\n",
              "    </tr>\n",
              "    <tr>\n",
              "      <th>2</th>\n",
              "      <td>502</td>\n",
              "      <td>France</td>\n",
              "      <td>Female</td>\n",
              "      <td>42</td>\n",
              "      <td>8</td>\n",
              "      <td>159660.80</td>\n",
              "      <td>3</td>\n",
              "      <td>1</td>\n",
              "      <td>0</td>\n",
              "      <td>113931.57</td>\n",
              "      <td>1</td>\n",
              "    </tr>\n",
              "  </tbody>\n",
              "</table>\n",
              "</div>"
            ],
            "text/plain": [
              "   CreditScore Geography  Gender  Age  Tenure    Balance  NumOfProducts  \\\n",
              "0          619    France  Female   42       2       0.00              1   \n",
              "1          608     Spain  Female   41       1   83807.86              1   \n",
              "2          502    France  Female   42       8  159660.80              3   \n",
              "\n",
              "   HasCrCard  IsActiveMember  EstimatedSalary  Exited  \n",
              "0          1               1        101348.88       1  \n",
              "1          0               1        112542.58       0  \n",
              "2          1               0        113931.57       1  "
            ]
          },
          "execution_count": 92,
          "metadata": {},
          "output_type": "execute_result"
        }
      ],
      "source": [
        "df.head(3)\n"
      ]
    },
    {
      "cell_type": "code",
      "execution_count": 93,
      "metadata": {
        "colab": {
          "base_uri": "https://localhost:8080/"
        },
        "id": "2ICOZjiFjNt2",
        "outputId": "a25e8d90-3aa6-4ea6-835b-cc7dd65d2870"
      },
      "outputs": [
        {
          "data": {
            "text/plain": [
              "Index(['CreditScore', 'Geography', 'Gender', 'Age', 'Tenure', 'Balance',\n",
              "       'NumOfProducts', 'HasCrCard', 'IsActiveMember', 'EstimatedSalary',\n",
              "       'Exited'],\n",
              "      dtype='object')"
            ]
          },
          "execution_count": 93,
          "metadata": {},
          "output_type": "execute_result"
        }
      ],
      "source": [
        "#yeni değişken isimleri incelendi\n",
        "df.columns\n"
      ]
    },
    {
      "cell_type": "code",
      "execution_count": 94,
      "metadata": {
        "id": "LhYrJPsxjRGy"
      },
      "outputs": [],
      "source": [
        "#değişken dönüşümü yapıldı\n",
        "df = pd.get_dummies(df)"
      ]
    },
    {
      "cell_type": "code",
      "execution_count": 95,
      "metadata": {
        "colab": {
          "base_uri": "https://localhost:8080/",
          "height": 207
        },
        "id": "1UPKm7thjaYx",
        "outputId": "7943d29d-017f-484a-f9c9-6c45c0f267c4"
      },
      "outputs": [
        {
          "data": {
            "text/html": [
              "<div>\n",
              "<style scoped>\n",
              "    .dataframe tbody tr th:only-of-type {\n",
              "        vertical-align: middle;\n",
              "    }\n",
              "\n",
              "    .dataframe tbody tr th {\n",
              "        vertical-align: top;\n",
              "    }\n",
              "\n",
              "    .dataframe thead th {\n",
              "        text-align: right;\n",
              "    }\n",
              "</style>\n",
              "<table border=\"1\" class=\"dataframe\">\n",
              "  <thead>\n",
              "    <tr style=\"text-align: right;\">\n",
              "      <th></th>\n",
              "      <th>CreditScore</th>\n",
              "      <th>Age</th>\n",
              "      <th>Tenure</th>\n",
              "      <th>Balance</th>\n",
              "      <th>NumOfProducts</th>\n",
              "      <th>HasCrCard</th>\n",
              "      <th>IsActiveMember</th>\n",
              "      <th>EstimatedSalary</th>\n",
              "      <th>Exited</th>\n",
              "      <th>Geography_France</th>\n",
              "      <th>Geography_Germany</th>\n",
              "      <th>Geography_Spain</th>\n",
              "      <th>Gender_Female</th>\n",
              "      <th>Gender_Male</th>\n",
              "    </tr>\n",
              "  </thead>\n",
              "  <tbody>\n",
              "    <tr>\n",
              "      <th>0</th>\n",
              "      <td>619</td>\n",
              "      <td>42</td>\n",
              "      <td>2</td>\n",
              "      <td>0.00</td>\n",
              "      <td>1</td>\n",
              "      <td>1</td>\n",
              "      <td>1</td>\n",
              "      <td>101348.88</td>\n",
              "      <td>1</td>\n",
              "      <td>1</td>\n",
              "      <td>0</td>\n",
              "      <td>0</td>\n",
              "      <td>1</td>\n",
              "      <td>0</td>\n",
              "    </tr>\n",
              "    <tr>\n",
              "      <th>1</th>\n",
              "      <td>608</td>\n",
              "      <td>41</td>\n",
              "      <td>1</td>\n",
              "      <td>83807.86</td>\n",
              "      <td>1</td>\n",
              "      <td>0</td>\n",
              "      <td>1</td>\n",
              "      <td>112542.58</td>\n",
              "      <td>0</td>\n",
              "      <td>0</td>\n",
              "      <td>0</td>\n",
              "      <td>1</td>\n",
              "      <td>1</td>\n",
              "      <td>0</td>\n",
              "    </tr>\n",
              "    <tr>\n",
              "      <th>2</th>\n",
              "      <td>502</td>\n",
              "      <td>42</td>\n",
              "      <td>8</td>\n",
              "      <td>159660.80</td>\n",
              "      <td>3</td>\n",
              "      <td>1</td>\n",
              "      <td>0</td>\n",
              "      <td>113931.57</td>\n",
              "      <td>1</td>\n",
              "      <td>1</td>\n",
              "      <td>0</td>\n",
              "      <td>0</td>\n",
              "      <td>1</td>\n",
              "      <td>0</td>\n",
              "    </tr>\n",
              "  </tbody>\n",
              "</table>\n",
              "</div>"
            ],
            "text/plain": [
              "   CreditScore  Age  Tenure    Balance  NumOfProducts  HasCrCard  \\\n",
              "0          619   42       2       0.00              1          1   \n",
              "1          608   41       1   83807.86              1          0   \n",
              "2          502   42       8  159660.80              3          1   \n",
              "\n",
              "   IsActiveMember  EstimatedSalary  Exited  Geography_France  \\\n",
              "0               1        101348.88       1                 1   \n",
              "1               1        112542.58       0                 0   \n",
              "2               0        113931.57       1                 1   \n",
              "\n",
              "   Geography_Germany  Geography_Spain  Gender_Female  Gender_Male  \n",
              "0                  0                0              1            0  \n",
              "1                  0                1              1            0  \n",
              "2                  0                0              1            0  "
            ]
          },
          "execution_count": 95,
          "metadata": {},
          "output_type": "execute_result"
        }
      ],
      "source": [
        "df.head(3)"
      ]
    },
    {
      "cell_type": "markdown",
      "metadata": {
        "id": "Kljaa42Oj24q"
      },
      "source": [
        "# Model & Tahmin"
      ]
    },
    {
      "cell_type": "code",
      "execution_count": 96,
      "metadata": {
        "id": "fNxzWmL3kFCn"
      },
      "outputs": [],
      "source": [
        "#bağımlı-bağımsız değişken oluşturuldu\n",
        "y = df[\"Exited\"]\n",
        "X = df.drop(\"Exited\", axis =1)"
      ]
    },
    {
      "cell_type": "code",
      "execution_count": 97,
      "metadata": {
        "id": "gzQWP9Tvk64E"
      },
      "outputs": [],
      "source": [
        "#train-test veri setleri oluşturuldu\n",
        "X_train,X_test,y_train,y_test = train_test_split(X,y,test_size = 0.33,random_state=42)\n"
      ]
    },
    {
      "cell_type": "code",
      "execution_count": 98,
      "metadata": {
        "colab": {
          "base_uri": "https://localhost:8080/"
        },
        "id": "6QNoXx4YlCws",
        "outputId": "7a0a7d87-57be-4f25-ddd7-6bfc0e3f31d9"
      },
      "outputs": [
        {
          "name": "stdout",
          "output_type": "stream",
          "text": [
            "DataFrame Shape: (10000, 14)\n",
            "*************************\n",
            "X Train Shape: (6700, 13)\n",
            "*************************\n",
            "X Test Shape: (3300, 13)\n",
            "*************************\n",
            "Y Train Shape: (6700,)\n",
            "*************************\n",
            "Y Test Shape: (3300,)\n"
          ]
        }
      ],
      "source": [
        "#train-test veri setleri incelendi\n",
        "print('DataFrame Shape:', df.shape)\n",
        "print('*'*25)\n",
        "print('X Train Shape:', X_train.shape)\n",
        "print('*'*25)\n",
        "print('X Test Shape:', X_test.shape)\n",
        "print('*'*25)\n",
        "print('Y Train Shape:', y_train.shape)\n",
        "print('*'*25)\n",
        "print('Y Test Shape:', y_test.shape)"
      ]
    },
    {
      "cell_type": "code",
      "execution_count": 100,
      "metadata": {
        "id": "BffrD34qlMC1"
      },
      "outputs": [],
      "source": [
        "# Farklı sınıflandırma modellerini oluşturuldu ve models listesine eklendi.\n",
        "# Her bir modelin açıklamasını ve parametrelerini içeren bir liste oluşturuldu.\n",
        "\n",
        "models = []\n",
        "# XGBoost Classifier\n",
        "models.append(['XGBClassifier',XGBClassifier(learning_rate=0.1,objective='binary:logistic',random_state=0,eval_metric='mlogloss')])\n",
        "# Logistic Regression\n",
        "models.append(['Logistic Regression',LogisticRegression(random_state=0)])\n",
        "# Support Vector Machine (SVM)\n",
        "models.append(['SVM',SVC(random_state=0)])\n",
        "# K-Nearest Neighbors\n",
        "models.append(['KNeigbors',KNeighborsClassifier()])\n",
        "# Gaussian Naive Bayes\n",
        "models.append(['GaussianNB',GaussianNB()])\n",
        "# Bernoulli Naive Bayes\n",
        "models.append(['BernoulliNB',BernoulliNB()])\n",
        "# Decision Tree Classifier\n",
        "models.append(['DecisionTree',DecisionTreeClassifier(random_state=0)])\n",
        "# Random Forest Classifier\n",
        "models.append(['RandomForest',RandomForestClassifier(random_state=0)])\n",
        "# AdaBoost Classifier\n",
        "models.append(['AdaBoostClassifier',AdaBoostClassifier()])\n"
      ]
    },
    {
      "cell_type": "code",
      "execution_count": 101,
      "metadata": {
        "colab": {
          "base_uri": "https://localhost:8080/"
        },
        "id": "FSFmfu3xlYRv",
        "outputId": "61e2ebda-ad4f-48d2-9d5c-2cca18a7228e"
      },
      "outputs": [
        {
          "name": "stdout",
          "output_type": "stream",
          "text": [
            "XGBClassifier :\n",
            "[[2548  109]\n",
            " [ 325  318]]\n",
            "Accuracy Score:  0.8684848484848485\n",
            "\n",
            "K-Fold Validation Mean Accuracy: 85.72 %\n",
            "\n",
            "Standard Deviation: 0.60 %\n",
            "\n",
            "ROC AUC Score: 0.73 %\n",
            "\n",
            "Precision: 0.74 %\n",
            "\n",
            "Recall: 0.49 %\n",
            "\n",
            "F1 Score: 0.59 %\n",
            "----------------------------------------\n",
            "\n",
            "Logistic Regression :\n",
            "[[2588   69]\n",
            " [ 575   68]]\n",
            "Accuracy Score:  0.8048484848484848\n",
            "\n",
            "K-Fold Validation Mean Accuracy: 78.93 %\n",
            "\n",
            "Standard Deviation: 0.30 %\n",
            "\n",
            "ROC AUC Score: 0.54 %\n",
            "\n",
            "Precision: 0.50 %\n",
            "\n",
            "Recall: 0.11 %\n",
            "\n",
            "F1 Score: 0.17 %\n",
            "----------------------------------------\n",
            "\n",
            "SVM :\n",
            "[[2657    0]\n",
            " [ 643    0]]\n",
            "Accuracy Score:  0.8051515151515152\n",
            "\n",
            "K-Fold Validation Mean Accuracy: 79.19 %\n",
            "\n",
            "Standard Deviation: 0.03 %\n",
            "\n",
            "ROC AUC Score: 0.50 %\n",
            "\n",
            "Precision: 0.00 %\n",
            "\n",
            "Recall: 0.00 %\n",
            "\n",
            "F1 Score: 0.00 %\n",
            "----------------------------------------\n",
            "\n",
            "KNeigbors :\n",
            "[[2476  181]\n",
            " [ 581   62]]\n",
            "Accuracy Score:  0.769090909090909\n",
            "\n",
            "K-Fold Validation Mean Accuracy: 75.73 %\n",
            "\n",
            "Standard Deviation: 1.04 %\n",
            "\n",
            "ROC AUC Score: 0.51 %\n",
            "\n",
            "Precision: 0.26 %\n",
            "\n",
            "Recall: 0.10 %\n",
            "\n",
            "F1 Score: 0.14 %\n",
            "----------------------------------------\n",
            "\n",
            "GaussianNB :\n",
            "[[2555  102]\n",
            " [ 556   87]]\n",
            "Accuracy Score:  0.8006060606060607\n",
            "\n",
            "K-Fold Validation Mean Accuracy: 78.63 %\n",
            "\n",
            "Standard Deviation: 0.60 %\n",
            "\n",
            "ROC AUC Score: 0.55 %\n",
            "\n",
            "Precision: 0.46 %\n",
            "\n",
            "Recall: 0.14 %\n",
            "\n",
            "F1 Score: 0.21 %\n",
            "----------------------------------------\n",
            "\n",
            "BernoulliNB :\n",
            "[[2483  174]\n",
            " [ 535  108]]\n",
            "Accuracy Score:  0.7851515151515152\n",
            "\n",
            "K-Fold Validation Mean Accuracy: 78.06 %\n",
            "\n",
            "Standard Deviation: 0.26 %\n",
            "\n",
            "ROC AUC Score: 0.55 %\n",
            "\n",
            "Precision: 0.38 %\n",
            "\n",
            "Recall: 0.17 %\n",
            "\n",
            "F1 Score: 0.23 %\n",
            "----------------------------------------\n",
            "\n",
            "DecisionTree :\n",
            "[[2279  378]\n",
            " [ 323  320]]\n",
            "Accuracy Score:  0.7875757575757576\n",
            "\n",
            "K-Fold Validation Mean Accuracy: 79.15 %\n",
            "\n",
            "Standard Deviation: 0.87 %\n",
            "\n",
            "ROC AUC Score: 0.68 %\n",
            "\n",
            "Precision: 0.46 %\n",
            "\n",
            "Recall: 0.50 %\n",
            "\n",
            "F1 Score: 0.48 %\n",
            "----------------------------------------\n",
            "\n",
            "RandomForest :\n",
            "[[2560   97]\n",
            " [ 339  304]]\n",
            "Accuracy Score:  0.8678787878787879\n",
            "\n",
            "K-Fold Validation Mean Accuracy: 85.63 %\n",
            "\n",
            "Standard Deviation: 0.37 %\n",
            "\n",
            "ROC AUC Score: 0.72 %\n",
            "\n",
            "Precision: 0.76 %\n",
            "\n",
            "Recall: 0.47 %\n",
            "\n",
            "F1 Score: 0.58 %\n",
            "----------------------------------------\n",
            "\n",
            "AdaBoostClassifier :\n",
            "[[2536  121]\n",
            " [ 342  301]]\n",
            "Accuracy Score:  0.8596969696969697\n",
            "\n",
            "K-Fold Validation Mean Accuracy: 84.96 %\n",
            "\n",
            "Standard Deviation: 0.61 %\n",
            "\n",
            "ROC AUC Score: 0.71 %\n",
            "\n",
            "Precision: 0.71 %\n",
            "\n",
            "Recall: 0.47 %\n",
            "\n",
            "F1 Score: 0.57 %\n",
            "----------------------------------------\n",
            "\n"
          ]
        }
      ],
      "source": [
        "# Modelleri eğitme, değerlendirime ve sonuçları bir liste içinde saklama\n",
        "  \n",
        "lst_1 = []                               # Tüm sonuçları saklamak için bir liste oluşturuldu\n",
        "for m in range(len(models)):\n",
        "    lst_2 = []                           # Her model için bir alt liste oluşturuldu\n",
        "    model = models[m][1]                 # Modeli seç\n",
        "    model.fit(X_train,y_train)           # Modeli eğit\n",
        "    y_pred = model.predict(X_test)       # Tahminleri al\n",
        "    cm = confusion_matrix(y_test,y_pred) # Confusion Matrix hesapla\n",
        "    accuracies = cross_val_score(estimator= model, X = X_train,y = y_train, cv=5)    # K-Fold Cross Validation\n",
        "# model doğrulama\n",
        "# k-fOLD Validation\n",
        "    roc = roc_auc_score(y_test,y_pred)           # ROC AUC Score hesapla\n",
        "    precision = precision_score(y_test,y_pred)   # Precision hesapla\n",
        "    recall = recall_score(y_test,y_pred)         # Recall hesapla\n",
        "    f1 = f1_score(y_test,y_pred)                 # F1 Score hesapla\n",
        "    print(models[m][0],':') \n",
        "    print(cm)\n",
        "    print('Accuracy Score: ',accuracy_score(y_test,y_pred))\n",
        "    print('')\n",
        "    print('K-Fold Validation Mean Accuracy: {:.2f} %'.format(accuracies.mean()*100))\n",
        "    print('')\n",
        "    print('Standard Deviation: {:.2f} %'.format(accuracies.std()*100))\n",
        "    print('')\n",
        "    print('ROC AUC Score: {:.2f} %'.format(roc))\n",
        "    print('')\n",
        "    print('Precision: {:.2f} %'.format(precision))\n",
        "    print('')\n",
        "    print('Recall: {:.2f} %'.format(recall))\n",
        "    print('')\n",
        "    print('F1 Score: {:.2f} %'.format(f1))\n",
        "    print('-'*40)\n",
        "    print('')\n",
        "\n",
        " # Sonuçlar bir alt listeye eklendi.\n",
        "\n",
        "    lst_2.append(models[m][0])\n",
        "    lst_2.append(accuracy_score(y_test,y_pred)*100)\n",
        "    lst_2.append(accuracies.mean()*100)\n",
        "    lst_2.append(accuracies.std()*100)\n",
        "    lst_2.append(roc)\n",
        "    lst_2.append(precision)\n",
        "    lst_2.append(recall)\n",
        "    lst_2.append(f1)\n",
        "    lst_1.append(lst_2)         # Alt listeyi ana listeye eklendi.\n",
        "\n",
        "    # Her modelin performansını içeren bir liste oluşturuldu\n",
        "\n"
      ]
    },
    {
      "cell_type": "markdown",
      "metadata": {
        "id": "CRqTyhbPBXRO"
      },
      "source": [
        "XGBoost Model (FİNAL MODELİ)"
      ]
    },
    {
      "cell_type": "code",
      "execution_count": 102,
      "metadata": {
        "id": "bC4c5JnACyW2"
      },
      "outputs": [],
      "source": [
        "#bağımlı-bağımsız değişken oluşturuldu\n",
        "y = df[\"Exited\"]\n",
        "X = df.drop(\"Exited\", axis =1)"
      ]
    },
    {
      "cell_type": "code",
      "execution_count": 103,
      "metadata": {
        "id": "7-Bxa6UXCxEj"
      },
      "outputs": [],
      "source": [
        "#train-test veri setleri oluşturuldu\n",
        "X_train,X_test,y_train,y_test = train_test_split(X,y,test_size = 0.33,random_state=42)"
      ]
    },
    {
      "cell_type": "code",
      "execution_count": 104,
      "metadata": {
        "id": "R_ocVKoSBcbo"
      },
      "outputs": [],
      "source": [
        "# XGBoost kütüphanesinden XGBClassifier içe aktarıldı\n",
        "\n",
        "from xgboost import  XGBClassifier"
      ]
    },
    {
      "cell_type": "code",
      "execution_count": 105,
      "metadata": {
        "id": "izS0l8BoB-zp"
      },
      "outputs": [],
      "source": [
        "# XGBoost sınıflandırıcı modelini eğitildi\n",
        "\n",
        "xgb_model = XGBClassifier().fit(X_train,y_train)"
      ]
    },
    {
      "cell_type": "code",
      "execution_count": 106,
      "metadata": {
        "id": "AXdMi-SJCXM7"
      },
      "outputs": [],
      "source": [
        "# Eğitilmiş XGBoost modeli üzerinde test verileri (X_test) üzerinde tahminler yapıldı\n",
        "\n",
        "y_pred = xgb_model.predict(X_test)"
      ]
    },
    {
      "cell_type": "code",
      "execution_count": 107,
      "metadata": {
        "colab": {
          "base_uri": "https://localhost:8080/"
        },
        "id": "8JzD2cC1CW3w",
        "outputId": "fdf98963-d94e-4ad9-e53c-e535b31d4aa1"
      },
      "outputs": [
        {
          "data": {
            "text/plain": [
              "0.8566666666666667"
            ]
          },
          "execution_count": 107,
          "metadata": {},
          "output_type": "execute_result"
        }
      ],
      "source": [
        "# accuracy_score fonksiyonu, gerçek ve tahmin edilen sınıflar arasındaki doğruluk oranını hesaplar\n",
        "\n",
        "accuracy_score(y_test,y_pred)"
      ]
    },
    {
      "cell_type": "markdown",
      "metadata": {
        "id": "8djryLJbDrjc"
      },
      "source": [
        "Model Tuning"
      ]
    },
    {
      "cell_type": "code",
      "execution_count": 108,
      "metadata": {
        "id": "Taoc2wsRCWXX"
      },
      "outputs": [],
      "source": [
        "# XGBoost sınıflandırıcı modeli için bir örnek oluşturun\n",
        "\n",
        "xgb = XGBClassifier()"
      ]
    },
    {
      "cell_type": "code",
      "execution_count": 109,
      "metadata": {
        "id": "K6jJeFjtD0di"
      },
      "outputs": [],
      "source": [
        "# XGBoost sınıflandırıcı modelinin hiperparametre araması için kullanılacak parametre setini belirtildi.\n",
        "\n",
        "xgb_params = {\"n_estimators\":[100,500,1000],       # Ağaç sayısı\n",
        "              \"subsample\":[0.6,0.8,1.0],           # Alt örneklem oranı\n",
        "              \"max_depth\":[3,5,7],                 # Ağaç maksimum derinliği\n",
        "              \"learning_rate\":[0.1,0.001,0.01]}    # Öğrenme oranı \n",
        "\n"
      ]
    },
    {
      "cell_type": "code",
      "execution_count": 110,
      "metadata": {
        "id": "W2viQovKEssq"
      },
      "outputs": [],
      "source": [
        "# XGBoost sınıflandırıcı modeli için Grid Search Cross Validation (GridSearchCV) kullanarak\n",
        "# belirtilen hiperparametre seti üzerinde en iyi parametreleri bulundu\n",
        "\n",
        "# GridSearchCV, belirtilen parametre seti üzerinde çapraz doğrulama yaparak en iyi parametre kombinasyonunu bulmaya çalışır.\n",
        "# Bu işlem, modelin performansını optimize etmek ve overfitting/underfitting gibi sorunları önlemek için kullanılır.\n",
        "\n",
        "\n",
        "xgb_cv_model =GridSearchCV(xgb,xgb_params).fit(X_train,y_train)"
      ]
    },
    {
      "cell_type": "code",
      "execution_count": 111,
      "metadata": {
        "colab": {
          "base_uri": "https://localhost:8080/"
        },
        "id": "ujnvusDznsV6",
        "outputId": "a57f1c61-56fe-4d34-d570-e09ff3f762b6"
      },
      "outputs": [
        {
          "data": {
            "text/plain": [
              "{'learning_rate': 0.01, 'max_depth': 7, 'n_estimators': 500, 'subsample': 0.6}"
            ]
          },
          "execution_count": 111,
          "metadata": {},
          "output_type": "execute_result"
        }
      ],
      "source": [
        "# Bu ifade,GridSearchCV tarafından belirtilen hiperparametre seti üzerinde çapraz doğrulama sonuçlarına göre en iyi parametre kombinasyonunu gösterir.\n",
        "\n",
        "xgb_cv_model.best_params_"
      ]
    },
    {
      "cell_type": "code",
      "execution_count": 112,
      "metadata": {
        "id": "QGhq3rXdFJVT"
      },
      "outputs": [],
      "source": [
        "xgb_tuned = xgb = XGBClassifier(learning_rate= 0.01,\n",
        "                                max_depth= 7,\n",
        "                                n_estimators= 500, \n",
        "                                subsample= 0.6).fit(X_train,y_train)\n",
        "\n",
        "# Bu model, Grid Search Cross Validation (GridSearchCV) sonuçlarına dayanarak belirlenen en iyi hiperparametre seti ile eğitilmiştir.\n"
      ]
    },
    {
      "cell_type": "code",
      "execution_count": 113,
      "metadata": {
        "id": "H4osbF-Eod3I"
      },
      "outputs": [],
      "source": [
        "# Optimize edilmiş XGBoost sınıflandırıcı modeli üzerinde test verileri (X_test) üzerinde tahminler yapıldı\n",
        "# Bu tahminler, optimize edilmiş modelin test verileri üzerindeki performansını değerlendirmek için kullanılır\n",
        "\n",
        "\n",
        "y_pred = xgb_tuned.predict(X_test)"
      ]
    },
    {
      "cell_type": "code",
      "execution_count": 114,
      "metadata": {
        "colab": {
          "base_uri": "https://localhost:8080/"
        },
        "id": "5WLzqAX9oybT",
        "outputId": "4895a449-5ac1-41fe-ac28-f4c73ef5840d"
      },
      "outputs": [
        {
          "data": {
            "text/plain": [
              "0.8706060606060606"
            ]
          },
          "execution_count": 114,
          "metadata": {},
          "output_type": "execute_result"
        }
      ],
      "source": [
        "accuracy_score(y_test,y_pred)\n",
        "\n",
        "\n",
        "# accuracy_score fonksiyonu, optimize edilmiş XGBoost modelinin test verileri üzerindeki doğruluk oranını hesaplar\n",
        "# y_test: Gerçek hedef değerleri içeren test verisi\n",
        "# y_pred: Optimize edilmiş XGBoost modelinin yaptığı tahminler\n",
        "\n",
        "# accuracy_score(y_test, y_pred) ifadesi, gerçek ve tahmin edilen değerler arasındaki doğruluk oranını verir.\n",
        "# Bu değer, optimize edilmiş modelin test verileri üzerinde ne kadar doğru tahmin yaptığını gösterir.\n"
      ]
    },
    {
      "cell_type": "code",
      "execution_count": null,
      "metadata": {
        "id": "VR3NC4udo6Kp"
      },
      "outputs": [],
      "source": []
    }
  ],
  "metadata": {
    "colab": {
      "collapsed_sections": [],
      "provenance": []
    },
    "kernelspec": {
      "display_name": "Python 3",
      "name": "python3"
    },
    "language_info": {
      "codemirror_mode": {
        "name": "ipython",
        "version": 3
      },
      "file_extension": ".py",
      "mimetype": "text/x-python",
      "name": "python",
      "nbconvert_exporter": "python",
      "pygments_lexer": "ipython3",
      "version": "3.10.9"
    }
  },
  "nbformat": 4,
  "nbformat_minor": 0
}
